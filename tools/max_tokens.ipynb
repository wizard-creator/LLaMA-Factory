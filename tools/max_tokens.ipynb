{
 "cells": [
  {
   "cell_type": "code",
   "execution_count": null,
   "metadata": {},
   "outputs": [],
   "source": [
    "import json\n",
    "from transformers import AutoTokenizer\n",
    "\n",
    "# 加载文件\n",
    "with open('data/hh_rlhf_en/train_finetuned.json', 'r', encoding='utf-8') as file:\n",
    "    data = json.load(file)\n",
    "\n",
    "# 初始化Llama分词器\n",
    "tokenizer = AutoTokenizer.from_pretrained(\"meta-llama/Llama-3B-7B\")  # 确保替换为正确的模型路径\n",
    "\n",
    "# 计算每个输入的token数\n",
    "max_tokens = 0\n",
    "for entry in data:\n",
    "    input_text = entry.get('input', '')\n",
    "    # 计算当前文本的token数\n",
    "    num_tokens = len(tokenizer.encode(input_text))\n",
    "    max_tokens = max(max_tokens, num_tokens)\n",
    "\n",
    "# 输出最大token数\n",
    "print(f\"The maximum number of tokens in an input is: {max_tokens}\")\n"
   ]
  }
 ],
 "metadata": {
  "kernelspec": {
   "display_name": "stable-baseline",
   "language": "python",
   "name": "python3"
  },
  "language_info": {
   "codemirror_mode": {
    "name": "ipython",
    "version": 3
   },
   "file_extension": ".py",
   "mimetype": "text/x-python",
   "name": "python",
   "nbconvert_exporter": "python",
   "pygments_lexer": "ipython3",
   "version": "3.8.20"
  }
 },
 "nbformat": 4,
 "nbformat_minor": 2
}
