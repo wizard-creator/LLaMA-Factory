{
 "cells": [
  {
   "cell_type": "code",
   "execution_count": 1,
   "metadata": {},
   "outputs": [],
   "source": [
    "def get_instruction():\n",
    "    instruction = \"你是电商领域的专家，请你判断以下商品评论是正向的还是负向的。如果是正向的，请回答1，如果是负向的，请回答0。\"\n",
    "    return instruction\n",
    "\n",
    "def get_input(sentence):\n",
    "    input = f'商品评论：{sentence}'\n",
    "    return input"
   ]
  },
  {
   "cell_type": "code",
   "execution_count": 3,
   "metadata": {},
   "outputs": [
    {
     "name": "stderr",
     "output_type": "stream",
     "text": [
      "0it [00:00, ?it/s]"
     ]
    },
    {
     "name": "stderr",
     "output_type": "stream",
     "text": [
      "4988it [07:23, 11.25it/s]"
     ]
    },
    {
     "name": "stdout",
     "output_type": "stream",
     "text": [
      "数据总数: 4988\n",
      "label的分布情况: {1: 2441, 0: 2547}\n",
      "预测label的分布情况: {1: 2407, 0: 2581}\n",
      "acc: 0.9202085004009624\n"
     ]
    },
    {
     "name": "stderr",
     "output_type": "stream",
     "text": [
      "\n"
     ]
    }
   ],
   "source": [
    "import json\n",
    "import os\n",
    "from openai import OpenAI\n",
    "from transformers.utils.versions import require_version\n",
    "import pandas as pd\n",
    "from tqdm import tqdm\n",
    "\n",
    "def predict(port, df_pth):\n",
    "    client = OpenAI(\n",
    "        api_key=\"0\",\n",
    "        base_url=\"http://localhost:{}/v1\".format(port)\n",
    "    )\n",
    "\n",
    "    output=[]\n",
    "    count=0\n",
    "    right=0\n",
    "    true_label_count={}\n",
    "    predict_label_count = {}\n",
    "\n",
    "    df = pd.read_csv(df_pth)\n",
    "    df = df.fillna('')\n",
    "    df = df[df['label']!='']\n",
    "    df['label'] = df['label'].apply(lambda x: int(x))\n",
    "    for index, row in tqdm(df.iterrows()):\n",
    "        messages = []\n",
    "        input = get_input(row['sentence'])\n",
    "        instruction = get_instruction()\n",
    "        messages.append({\"role\": \"user\",\n",
    "                            \"content\": instruction + input})\n",
    "\n",
    "        result = client.chat.completions.create(messages=messages, model=\"test\",temperature=0)\n",
    "        try:\n",
    "            predict_label = json.loads(result.choices[0].message.content.strip())\n",
    "        except Exception as e:\n",
    "            print(e)\n",
    "            print(result.choices[0].message.content)\n",
    "            predict_label = \"-1\"\n",
    "\n",
    "        label = row['label']\n",
    "        count += 1\n",
    "        if label not in true_label_count:\n",
    "            true_label_count[label] = 1\n",
    "        else:\n",
    "            true_label_count[label] += 1\n",
    "\n",
    "        if predict_label not in predict_label_count:\n",
    "            predict_label_count[predict_label] = 1\n",
    "        else:\n",
    "            predict_label_count[predict_label] += 1\n",
    "\n",
    "        if label == predict_label:\n",
    "            right += 1\n",
    "\n",
    "    print(\"数据总数:\",count)\n",
    "    print(\"label的分布情况:\",true_label_count)\n",
    "    print(\"预测label的分布情况:\", predict_label_count)\n",
    "    print(\"acc:\",right/count)\n",
    "\n",
    "\n",
    "predict(port=8000, df_pth='./data/DAMO_NLP_jd/dev.csv')"
   ]
  }
 ],
 "metadata": {
  "kernelspec": {
   "display_name": "stable-baseline",
   "language": "python",
   "name": "python3"
  },
  "language_info": {
   "codemirror_mode": {
    "name": "ipython",
    "version": 3
   },
   "file_extension": ".py",
   "mimetype": "text/x-python",
   "name": "python",
   "nbconvert_exporter": "python",
   "pygments_lexer": "ipython3",
   "version": "3.8.20"
  }
 },
 "nbformat": 4,
 "nbformat_minor": 2
}
