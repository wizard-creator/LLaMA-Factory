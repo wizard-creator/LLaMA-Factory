{
 "cells": [
  {
   "cell_type": "code",
   "execution_count": 1,
   "metadata": {},
   "outputs": [
    {
     "name": "stdout",
     "output_type": "stream",
     "text": [
      "数据总数: 2388\n",
      "真实标签分布: {'negative': 347, 'positive': 475, 'neutral': 1566}\n",
      "预测标签分布: {'neutral': 1539, 'negative': 366, 'positive': 483}\n",
      "混淆矩阵:\n",
      "标签 negative: defaultdict(<class 'int'>, {'FN': 40, 'TP': 307, 'FP': 59})\n",
      "标签 neutral: defaultdict(<class 'int'>, {'FP': 84, 'TP': 1455, 'FN': 111})\n",
      "标签 positive: defaultdict(<class 'int'>, {'TP': 424, 'FN': 51, 'FP': 59})\n",
      "Accuracy: 0.9154103852596315\n"
     ]
    }
   ],
   "source": [
    "import json\n",
    "import os\n",
    "from openai import OpenAI\n",
    "from transformers.utils.versions import require_version\n",
    "import pandas as pd\n",
    "from tqdm import tqdm\n",
    "from collections import defaultdict\n",
    "\n",
    "def predict(port, json_pth):\n",
    "    # 端口\n",
    "    client = OpenAI(\n",
    "        api_key=\"0\",\n",
    "        base_url=\"http://localhost:{}/v1\".format(port)\n",
    "    )\n",
    "\n",
    "    # 读取json文件\n",
    "    with open(json_pth, 'r') as f:\n",
    "        datas = json.load(f)\n",
    "\n",
    "    # 初始化统计变量\n",
    "    true_label_count = defaultdict(int)\n",
    "    predict_label_count = defaultdict(int)\n",
    "    confusion_matrix = defaultdict(lambda: defaultdict(int))  # 用于统计 TP, TN, FP, FN\n",
    "    total_count = 0\n",
    "    correct_predictions = 0\n",
    "\n",
    "    for data in datas:\n",
    "        input         = data['input']\n",
    "        instruction   = data['instruction']\n",
    "        label         = data['output']\n",
    "        message = [{\"role\": \"user\",\n",
    "                        \"content\": instruction + input}]\n",
    "\n",
    "        result = client.chat.completions.create(messages=message, model=\"test\",temperature=0)\n",
    "        try:\n",
    "            predict_label = result.choices[0].message.content.strip()\n",
    "        except Exception as e:\n",
    "            print(f'error occur {e}')\n",
    "            print(result.choices[0].message.content)\n",
    "            predict_label = \"-1\"\n",
    "\n",
    "        # 更新统计\n",
    "        true_label_count[label]               += 1\n",
    "        predict_label_count[predict_label]    += 1\n",
    "        total_count                           += 1\n",
    "\n",
    "        if label == predict_label:\n",
    "            correct_predictions += 1\n",
    "            confusion_matrix[label][\"TP\"] += 1  # True Positive\n",
    "        else:\n",
    "            confusion_matrix[label][\"FN\"] += 1  # False Negative\n",
    "            confusion_matrix[predict_label][\"FP\"] += 1  # False Positive\n",
    "\n",
    "     # 计算总 Accuracy\n",
    "    accuracy = correct_predictions / total_count\n",
    "\n",
    "    # 打印结果\n",
    "    print(\"数据总数:\", total_count)\n",
    "    print(\"真实标签分布:\", dict(true_label_count))\n",
    "    print(\"预测标签分布:\", dict(predict_label_count))\n",
    "    print(\"混淆矩阵:\")\n",
    "    for label, metrics in confusion_matrix.items():\n",
    "        print(f\"标签 {label}: {metrics}\")\n",
    "    print(\"Accuracy:\", accuracy)\n",
    "\n",
    "    return accuracy, confusion_matrix\n",
    "\n",
    "accuracy, confusion_matrix = predict(port=8000, json_pth='./data/finance_sentiment/tfns_validation.json')"
   ]
  },
  {
   "cell_type": "code",
   "execution_count": 2,
   "metadata": {},
   "outputs": [
    {
     "name": "stdout",
     "output_type": "stream",
     "text": [
      "total_TP: 2186\n",
      "total_FN: 202\n",
      "total_FP: 202\n",
      "整体 Precision: 0.9154\n",
      "整体 Recall: 0.9154\n",
      "整体 F1 Score: 0.9154\n"
     ]
    }
   ],
   "source": [
    "def calculate_overall_f1(confusion_matrix):\n",
    "    \"\"\"\n",
    "    根据混淆矩阵计算整体 Precision, Recall 和 F1 Score\n",
    "\n",
    "    参数:\n",
    "    confusion_matrix: dict\n",
    "        混淆矩阵，例如：\n",
    "        {\n",
    "            \"negative\": {\"TP\": 1318, \"FN\": 124, \"FP\": 126},\n",
    "            \"neutral\": {\"TP\": 5910, \"FN\": 268, \"FP\": 223},\n",
    "            \"positive\": {\"TP\": 1807, \"FN\": 116, \"FP\": 159},\n",
    "        }\n",
    "\n",
    "    返回:\n",
    "    dict:\n",
    "        整体的 Precision, Recall 和 F1 Score\n",
    "    \"\"\"\n",
    "    # 初始化总计数\n",
    "    total_TP = 0\n",
    "    total_FN = 0\n",
    "    total_FP = 0\n",
    "\n",
    "    # 遍历所有标签累加 TP, FN, FP\n",
    "    for label, metrics in confusion_matrix.items():\n",
    "        total_TP += metrics.get(\"TP\", 0)\n",
    "        total_FN += metrics.get(\"FN\", 0)\n",
    "        total_FP += metrics.get(\"FP\", 0)\n",
    "\n",
    "    # 计算整体 Precision 和 Recall\n",
    "    print(f'total_TP: {total_TP}')\n",
    "    print(f'total_FN: {total_FN}')\n",
    "    print(f'total_FP: {total_FP}')\n",
    "    precision = total_TP / (total_TP + total_FP) if (total_TP + total_FP) > 0 else 0.0\n",
    "    recall = total_TP / (total_TP + total_FN) if (total_TP + total_FN) > 0 else 0.0\n",
    "\n",
    "    # 计算整体 F1 Score\n",
    "    f1_score = (2 * precision * recall) / (precision + recall) if (precision + recall) > 0 else 0.0\n",
    "\n",
    "    return {\n",
    "        \"Precision\": precision,\n",
    "        \"Recall\": recall,\n",
    "        \"F1 Score\": f1_score\n",
    "    }\n",
    "\n",
    "\n",
    "# 计算整体 F1-score\n",
    "overall_scores = calculate_overall_f1(confusion_matrix)\n",
    "\n",
    "# 打印结果\n",
    "print(\"整体 Precision: {:.4f}\".format(overall_scores[\"Precision\"]))\n",
    "print(\"整体 Recall: {:.4f}\".format(overall_scores[\"Recall\"]))\n",
    "print(\"整体 F1 Score: {:.4f}\".format(overall_scores[\"F1 Score\"]))\n"
   ]
  },
  {
   "cell_type": "code",
   "execution_count": 3,
   "metadata": {},
   "outputs": [
    {
     "name": "stdout",
     "output_type": "stream",
     "text": [
      "{'instruction': 'What is the sentiment of this tweet? Please choose an answer from {negative/neutral/positive}.', 'input': '$ALLY - Ally Financial pulls outlook https://t.co/G9Zdi1boy5', 'output': 'negative'}\n"
     ]
    }
   ],
   "source": [
    "json_path = r'data/finance_sentiment/tfns_validation.json'\n",
    "with open(json_path, 'r') as f:\n",
    "    data = json.load(f)\n",
    "\n",
    "print(data[0])"
   ]
  }
 ],
 "metadata": {
  "kernelspec": {
   "display_name": "stable-baseline",
   "language": "python",
   "name": "python3"
  },
  "language_info": {
   "codemirror_mode": {
    "name": "ipython",
    "version": 3
   },
   "file_extension": ".py",
   "mimetype": "text/x-python",
   "name": "python",
   "nbconvert_exporter": "python",
   "pygments_lexer": "ipython3",
   "version": "3.8.20"
  }
 },
 "nbformat": 4,
 "nbformat_minor": 2
}
