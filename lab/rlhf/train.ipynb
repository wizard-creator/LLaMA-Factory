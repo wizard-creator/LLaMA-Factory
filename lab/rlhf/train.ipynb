{
 "cells": [
  {
   "cell_type": "markdown",
   "metadata": {},
   "source": [
    "# 有监督的微调"
   ]
  },
  {
   "cell_type": "code",
   "execution_count": null,
   "metadata": {},
   "outputs": [],
   "source": [
    "from accelerate import Accelerator\n",
    "from transformers import AutoModelForCausalLM\n",
    "from peft import LoraConfig, get_peft_model, prepare_model_for_int8_training\n",
    "\n",
    "model_path =\n",
    "\n",
    "# 加载 8bit 模型\n",
    "model = AutoModelForCausalLM.from_pretrained(\n",
    "    args.model_path,\n",
    "    load_in_8bit=True,\n",
    "    device_map={\"\": Accelerator().local_process_index}\n",
    ")\n",
    "model = prepare_model_for_int8_training(model)\n",
    "\n",
    "# 添加 LoRA 到模型\n",
    "lora_config = LoraConfig(\n",
    "    r=16,\n",
    "    lora_alpha=32,\n",
    "    lora_dropout=0.05,\n",
    "    bias=\"none\",\n",
    "    task_type=\"CAUSAL_LM\",\n",
    ")\n",
    "\n",
    "model = get_peft_model(model, lora_config)\n"
   ]
  }
 ],
 "metadata": {
  "kernelspec": {
   "display_name": "stable-baseline",
   "language": "python",
   "name": "python3"
  },
  "language_info": {
   "name": "python",
   "version": "3.8.20"
  }
 },
 "nbformat": 4,
 "nbformat_minor": 2
}
