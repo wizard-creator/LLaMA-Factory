{
 "cells": [
  {
   "cell_type": "code",
   "execution_count": 1,
   "metadata": {},
   "outputs": [
    {
     "name": "stdout",
     "output_type": "stream",
     "text": [
      "160800\n"
     ]
    }
   ],
   "source": [
    "import json\n",
    "\n",
    "# 读取 JSON 文件\n",
    "file_path = \"data/hh_rlhf_en/train_finetuned.json\"  # 请根据实际情况修改文件路径\n",
    "with open(file_path, 'r', encoding='utf-8') as f:\n",
    "    data = json.load(f)  # 加载 JSON 数据\n",
    "\n",
    "# 输出第一个数据\n",
    "print(len(data))\n",
    "\n"
   ]
  }
 ],
 "metadata": {
  "kernelspec": {
   "display_name": "stable-baseline",
   "language": "python",
   "name": "python3"
  },
  "language_info": {
   "codemirror_mode": {
    "name": "ipython",
    "version": 3
   },
   "file_extension": ".py",
   "mimetype": "text/x-python",
   "name": "python",
   "nbconvert_exporter": "python",
   "pygments_lexer": "ipython3",
   "version": "3.8.20"
  }
 },
 "nbformat": 4,
 "nbformat_minor": 2
}
