{
 "cells": [
  {
   "cell_type": "code",
   "execution_count": null,
   "metadata": {},
   "outputs": [],
   "source": [
    "import torch\n",
    "import torch.nn as nn\n",
    "import torch.nn.functional as F\n",
    "\n",
    "class LoRALayer(nn.Module):\n",
    "    def __init__(self, original_layer, rank=8, alpha=16):\n",
    "        super().__init__()\n",
    "        self.original_layer = original_layer  # 原始线性层 (例如 nn.Linear)\n",
    "        self.rank = rank\n",
    "\n",
    "        # 冻结原始权重\n",
    "        for param in self.original_layer.parameters():\n",
    "            param.requires_grad = False\n",
    "\n",
    "        d, k = original_layer.weight.shape\n",
    "        self.A = nn.Parameter(torch.randn(d, rank))  # 低秩矩阵 A\n",
    "        self.B = nn.Parameter(torch.zeros(rank, k))  # 低秩矩阵 B\n",
    "        self.scale = alpha / rank  # 缩放因子\n",
    "\n",
    "    def forward(self, x):\n",
    "        orig_output = self.original_layer(x)  # 原始输出\n",
    "        lora_output = (x @ self.A.T @ self.B.T) * self.scale  # LoRA 调整项\n",
    "        return orig_output + lora_output"
   ]
  },
  {
   "cell_type": "code",
   "execution_count": null,
   "metadata": {},
   "outputs": [],
   "source": [
    "from transformers import BertModel\n",
    "\n",
    "model = BertModel.from_pretrained(\"bert-base-uncased\")\n",
    "\n",
    "# 替换第0层中的 query 和 value 线性层\n",
    "for layer in model.encoder.layer[0].attention.self.query.children():\n",
    "    if isinstance(layer, nn.Linear):\n",
    "        model.encoder.layer[0].attention.self.query = LoRALayer(layer, rank=8)\n"
   ]
  },
  {
   "cell_type": "code",
   "execution_count": null,
   "metadata": {},
   "outputs": [],
   "source": [
    "from transformers import BertTokenizer, AdamW\n",
    "\n",
    "# 数据准备\n",
    "tokenizer = BertTokenizer.from_pretrained(\"bert-base-uncased\")\n",
    "texts = [\"I love NLP!\", \"LoRA is efficient.\"]\n",
    "labels = [1, 0]\n",
    "inputs = tokenizer(texts, padding=True, return_tensors=\"pt\")\n",
    "labels = torch.tensor(labels)\n",
    "\n",
    "# 配置模型和优化器\n",
    "model.classifier = nn.Linear(model.config.hidden_size, 2)  # 分类头\n",
    "optimizer = AdamW(model.parameters(), lr=1e-4)\n",
    "\n",
    "# 训练循环\n",
    "for epoch in range(5):\n",
    "    outputs = model(**inputs, labels=labels)\n",
    "    loss = outputs.loss\n",
    "    loss.backward()\n",
    "    optimizer.step()\n",
    "    optimizer.zero_grad()\n",
    "    print(f\"Epoch {epoch}, Loss: {loss.item():.4f}\")"
   ]
  }
 ],
 "metadata": {
  "kernelspec": {
   "display_name": "stable-baseline",
   "language": "python",
   "name": "python3"
  },
  "language_info": {
   "codemirror_mode": {
    "name": "ipython",
    "version": 3
   },
   "file_extension": ".py",
   "mimetype": "text/x-python",
   "name": "python",
   "nbconvert_exporter": "python",
   "pygments_lexer": "ipython3",
   "version": "3.8.20"
  }
 },
 "nbformat": 4,
 "nbformat_minor": 2
}
