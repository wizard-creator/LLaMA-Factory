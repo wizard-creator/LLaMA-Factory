{
 "cells": [
  {
   "cell_type": "code",
   "execution_count": 1,
   "metadata": {},
   "outputs": [],
   "source": [
    "import os\n",
    "os.environ['HF_ENDPOINT'] = 'https://hf-mirror.com'"
   ]
  },
  {
   "cell_type": "markdown",
   "metadata": {},
   "source": [
    "# TFNS"
   ]
  },
  {
   "cell_type": "code",
   "execution_count": null,
   "metadata": {},
   "outputs": [],
   "source": [
    "import warnings\n",
    "warnings.filterwarnings(\"ignore\")\n",
    "import json\n",
    "\n",
    "from datasets import load_dataset\n",
    "\n",
    "dic = {\n",
    "    0:\"negative\",\n",
    "    1:'positive',\n",
    "    2:'neutral',\n",
    "}\n",
    "\n",
    "def format_example(example: dict) -> dict:\n",
    "    context = f\"Instruction: {example['instruction']}\\n\"\n",
    "    if example.get(\"input\"):\n",
    "        context += f\"Input: {example['input']}\\n\"\n",
    "    context += \"Answer: \"\n",
    "    target = example[\"output\"]\n",
    "    return {\"context\": context, \"target\": target}\n",
    "\n",
    "def change_target(x):\n",
    "    if 'positive' in x or 'Positive' in x:\n",
    "        return 'positive'\n",
    "    elif 'negative' in x or 'Negative' in x:\n",
    "        return 'negative'\n",
    "    else:\n",
    "        return 'neutral'\n",
    "\n",
    "def get_data_tfns(batch_size = 8, prompt_fun = None, target='train'):\n",
    "    dataset = load_dataset('zeroshot/twitter-financial-news-sentiment')\n",
    "    # dataset = dataset['validation']\n",
    "    dataset = dataset[target]\n",
    "    dataset = dataset.to_pandas()\n",
    "    dataset['label'] = dataset['label'].apply(lambda x:dic[x])\n",
    "\n",
    "    if prompt_fun is None:\n",
    "        dataset[\"instruction\"] = 'What is the sentiment of this tweet? Please choose an answer from {negative/neutral/positive}.'\n",
    "    else:\n",
    "        dataset[\"instruction\"] = dataset.apply(prompt_fun, axis = 1)\n",
    "\n",
    "    dataset.columns = ['input', 'output', 'instruction']\n",
    "    dataset[[\"context\",\"target\"]] = dataset.apply(format_example, axis = 1, result_type=\"expand\")\n",
    "\n",
    "    # print example\n",
    "    print(f\"\\n\\nPrompt example:\\n{dataset['context'][0]}\\n\\n\")\n",
    "\n",
    "    context = dataset['context'].tolist()\n",
    "\n",
    "    total_steps = dataset.shape[0]//batch_size + 1\n",
    "    print(f\"Total len: {len(context)}. Batchsize: {batch_size}. Total steps: {total_steps}\")\n",
    "\n",
    "    return dataset\n",
    "\n",
    "def dataset_to_json(dataset, output_file):\n",
    "    \"\"\"\n",
    "    将 Pandas DataFrame 转换为 JSON 格式并保存为文件。\n",
    "    每一行会转换为 {\"instruction\": \"\", \"input\": \"\", \"output\": \"\"} 的字典。\n",
    "    \"\"\"\n",
    "    # 构造 JSON 数据\n",
    "    json_data = dataset.apply(lambda row: {\n",
    "        \"instruction\": row[\"instruction\"],\n",
    "        \"input\": row[\"input\"],\n",
    "        \"output\": row[\"output\"]\n",
    "    }, axis=1).tolist()\n",
    "\n",
    "    # 将 JSON 数据写入文件\n",
    "    with open(output_file, \"w\", encoding=\"utf-8\") as f:\n",
    "        json.dump(json_data, f, ensure_ascii=False, indent=4)\n",
    "\n",
    "    print(f\"JSON 文件已保存至 {output_file}\")\n",
    "\n",
    "targets = ['train', 'validation']\n",
    "\n",
    "for target in targets:\n",
    "    data_class = 'tfns'\n",
    "    output_file = f'data/finance_sentiment/{data_class}_{target}.json'\n",
    "    tfns_dataset = get_data_tfns()\n",
    "    tfns_dataset.head().to_csv(f'./lab/sentiment/tfns_demo_{target}.csv')\n",
    "    dataset_to_json(tfns_dataset, output_file)"
   ]
  }
 ],
 "metadata": {
  "kernelspec": {
   "display_name": "stable-baseline",
   "language": "python",
   "name": "python3"
  },
  "language_info": {
   "codemirror_mode": {
    "name": "ipython",
    "version": 3
   },
   "file_extension": ".py",
   "mimetype": "text/x-python",
   "name": "python",
   "nbconvert_exporter": "python",
   "pygments_lexer": "ipython3",
   "version": "3.8.0"
  }
 },
 "nbformat": 4,
 "nbformat_minor": 2
}
